{
 "cells": [
  {
   "cell_type": "code",
   "execution_count": 1,
   "metadata": {},
   "outputs": [],
   "source": [
    "import boto3\n",
    "ec2_client=boto3.client(\"ec2\",  region_name='ap-south-1')"
   ]
  },
  {
   "cell_type": "code",
   "execution_count": 2,
   "metadata": {
    "scrolled": true
   },
   "outputs": [],
   "source": [
    "vol = ec2_client.create_volume(AvailabilityZone='ap-south-1a',\n",
    "      Size=5,               \n",
    "      VolumeType='gp2',\n",
    "      TagSpecifications=[\n",
    "          {\n",
    "              'ResourceType': 'volume',\n",
    "              'Tags': [\n",
    "                  {\n",
    "                      'Key': 'Name',\n",
    "                      'Value': 'TASK6'\n",
    "                  },\n",
    "              ]\n",
    "          },\n",
    "      ],\n",
    "     \n",
    "  )\n"
   ]
  },
  {
   "cell_type": "code",
   "execution_count": 3,
   "metadata": {},
   "outputs": [
    {
     "data": {
      "text/plain": [
       "{'AvailabilityZone': 'ap-south-1a',\n",
       " 'CreateTime': datetime.datetime(2021, 8, 15, 13, 35, 44, tzinfo=tzutc()),\n",
       " 'Encrypted': False,\n",
       " 'Size': 5,\n",
       " 'SnapshotId': '',\n",
       " 'State': 'creating',\n",
       " 'VolumeId': 'vol-075629a570b27f901',\n",
       " 'Iops': 100,\n",
       " 'Tags': [{'Key': 'Name', 'Value': 'TASK6'}],\n",
       " 'VolumeType': 'gp2',\n",
       " 'MultiAttachEnabled': False,\n",
       " 'ResponseMetadata': {'RequestId': 'ecf97c7b-d1be-471c-8695-95371c7c99ba',\n",
       "  'HTTPStatusCode': 200,\n",
       "  'HTTPHeaders': {'x-amzn-requestid': 'ecf97c7b-d1be-471c-8695-95371c7c99ba',\n",
       "   'cache-control': 'no-cache, no-store',\n",
       "   'strict-transport-security': 'max-age=31536000; includeSubDomains',\n",
       "   'content-type': 'text/xml;charset=UTF-8',\n",
       "   'content-length': '689',\n",
       "   'date': 'Sun, 15 Aug 2021 13:35:44 GMT',\n",
       "   'server': 'AmazonEC2'},\n",
       "  'RetryAttempts': 0}}"
      ]
     },
     "execution_count": 3,
     "metadata": {},
     "output_type": "execute_result"
    }
   ],
   "source": [
    "vol"
   ]
  },
  {
   "cell_type": "code",
   "execution_count": 4,
   "metadata": {},
   "outputs": [],
   "source": [
    "Volid = vol['VolumeId']"
   ]
  },
  {
   "cell_type": "code",
   "execution_count": 5,
   "metadata": {},
   "outputs": [
    {
     "data": {
      "text/plain": [
       "'vol-075629a570b27f901'"
      ]
     },
     "execution_count": 5,
     "metadata": {},
     "output_type": "execute_result"
    }
   ],
   "source": [
    "Volid"
   ]
  },
  {
   "cell_type": "code",
   "execution_count": 6,
   "metadata": {},
   "outputs": [
    {
     "data": {
      "text/plain": [
       "dict"
      ]
     },
     "execution_count": 6,
     "metadata": {},
     "output_type": "execute_result"
    }
   ],
   "source": [
    "type(vol)"
   ]
  },
  {
   "cell_type": "code",
   "execution_count": null,
   "metadata": {},
   "outputs": [],
   "source": []
  }
 ],
 "metadata": {
  "kernelspec": {
   "display_name": "Python 3",
   "language": "python",
   "name": "python3"
  },
  "language_info": {
   "codemirror_mode": {
    "name": "ipython",
    "version": 3
   },
   "file_extension": ".py",
   "mimetype": "text/x-python",
   "name": "python",
   "nbconvert_exporter": "python",
   "pygments_lexer": "ipython3",
   "version": "3.8.3"
  }
 },
 "nbformat": 4,
 "nbformat_minor": 5
}
